{
 "cells": [
  {
   "cell_type": "code",
   "execution_count": 3,
   "id": "472faed9-4b00-4159-ac66-ef3f993ef798",
   "metadata": {},
   "outputs": [],
   "source": [
    "import matplotlib.pyplot as plt\n",
    "import numpy as np\n",
    "from sympy import symbols, Eq, solve, sqrt, ln, exp\n",
    "import sympy as sp\n",
    "x, y = sp.symbols(\"x y\")\n",
    "from sympy import factor"
   ]
  },
  {
   "cell_type": "markdown",
   "id": "ef66c2e0-c600-45b4-89e1-8a71ec07cb1d",
   "metadata": {},
   "source": [
    "\"oppgave 1 A\""
   ]
  },
  {
   "cell_type": "code",
   "execution_count": 4,
   "id": "c4ebf6e2-d2cc-4172-a1bb-a4f308dd37c2",
   "metadata": {},
   "outputs": [
    {
     "data": {
      "text/latex": [
       "$\\displaystyle 5 x^{4}$"
      ],
      "text/plain": [
       "5*x**4"
      ]
     },
     "execution_count": 4,
     "metadata": {},
     "output_type": "execute_result"
    }
   ],
   "source": [
    "sp.diff(x**5)"
   ]
  },
  {
   "cell_type": "markdown",
   "id": "90e3b75c-f83b-400a-b136-62df737da760",
   "metadata": {},
   "source": [
    "\"oppgave 1 B\""
   ]
  },
  {
   "cell_type": "code",
   "execution_count": 5,
   "id": "ca7c7d0d-1f10-467b-a7a1-160960b6eb61",
   "metadata": {},
   "outputs": [
    {
     "data": {
      "text/latex": [
       "$\\displaystyle 1$"
      ],
      "text/plain": [
       "1"
      ]
     },
     "execution_count": 5,
     "metadata": {},
     "output_type": "execute_result"
    }
   ],
   "source": [
    "sp.diff(x+12)"
   ]
  },
  {
   "cell_type": "markdown",
   "id": "4f62aac9-96cc-4316-9566-1b07d5f7c92e",
   "metadata": {},
   "source": [
    "\"oppgave 1 C\""
   ]
  },
  {
   "cell_type": "code",
   "execution_count": 6,
   "id": "c83d803c-35c8-4234-8246-cb5d97abc865",
   "metadata": {},
   "outputs": [
    {
     "data": {
      "text/latex": [
       "$\\displaystyle 3 x^{2} + 8 x$"
      ],
      "text/plain": [
       "3*x**2 + 8*x"
      ]
     },
     "execution_count": 6,
     "metadata": {},
     "output_type": "execute_result"
    }
   ],
   "source": [
    "sp.diff(x**3+4*x**2)"
   ]
  },
  {
   "cell_type": "markdown",
   "id": "21fd98de-a483-4576-8733-2b812b1e2e71",
   "metadata": {},
   "source": [
    "\"oppgave 1 D\""
   ]
  },
  {
   "cell_type": "code",
   "execution_count": 7,
   "id": "27e21c66-d9da-4160-88fd-67d7f382c518",
   "metadata": {},
   "outputs": [
    {
     "data": {
      "text/latex": [
       "$\\displaystyle 6 x^{2}$"
      ],
      "text/plain": [
       "6*x**2"
      ]
     },
     "execution_count": 7,
     "metadata": {},
     "output_type": "execute_result"
    }
   ],
   "source": [
    "sp.diff(2*x**3+36**1/2)"
   ]
  },
  {
   "cell_type": "markdown",
   "id": "484ad1f2-16f9-4149-b7b3-4e82948a826d",
   "metadata": {},
   "source": [
    "\"oppgave 1 E\""
   ]
  },
  {
   "cell_type": "code",
   "execution_count": 8,
   "id": "3dbc2933-6c07-4412-8846-c7f233be198d",
   "metadata": {},
   "outputs": [
    {
     "data": {
      "text/latex": [
       "$\\displaystyle \\frac{1}{2}$"
      ],
      "text/plain": [
       "1/2"
      ]
     },
     "execution_count": 8,
     "metadata": {},
     "output_type": "execute_result"
    }
   ],
   "source": [
    "sp.diff((x**1/2)+5**2)"
   ]
  },
  {
   "cell_type": "markdown",
   "id": "94df3f5e-b8ee-4dfa-a99e-19be6aa6c5d8",
   "metadata": {},
   "source": [
    "\"oppgave 1 F\""
   ]
  },
  {
   "cell_type": "code",
   "execution_count": 9,
   "id": "a42fd515-e9eb-4478-b68d-de4f04b8105c",
   "metadata": {},
   "outputs": [
    {
     "data": {
      "text/latex": [
       "$\\displaystyle 3 x^{2} - \\frac{1}{x^{2}}$"
      ],
      "text/plain": [
       "3*x**2 - 1/x**2"
      ]
     },
     "execution_count": 9,
     "metadata": {},
     "output_type": "execute_result"
    }
   ],
   "source": [
    "sp.diff(x**3+1/x)"
   ]
  },
  {
   "cell_type": "markdown",
   "id": "c8faf194-c291-411b-a0d3-2c10c032aa1b",
   "metadata": {},
   "source": [
    "\"oppgave 1 G\""
   ]
  },
  {
   "cell_type": "code",
   "execution_count": 10,
   "id": "f56bd2cf-1a22-4d3e-b669-4370e93ffbec",
   "metadata": {},
   "outputs": [
    {
     "data": {
      "text/latex": [
       "$\\displaystyle 3 x^{2} - 2 x + 0.25$"
      ],
      "text/plain": [
       "3*x**2 - 2*x + 0.25"
      ]
     },
     "execution_count": 10,
     "metadata": {},
     "output_type": "execute_result"
    }
   ],
   "source": [
    "sp.diff(x**3-x**2+1/4*x)"
   ]
  },
  {
   "cell_type": "markdown",
   "id": "2ae38711-8a5e-4458-ad57-75f3a910e869",
   "metadata": {},
   "source": [
    "\"oppgave 2 A\""
   ]
  },
  {
   "cell_type": "code",
   "execution_count": 11,
   "id": "3e657f55-fc9a-4840-add9-d78a7a478955",
   "metadata": {},
   "outputs": [
    {
     "data": {
      "text/latex": [
       "$\\displaystyle 36 x^{5} - \\frac{1}{x^{2}}$"
      ],
      "text/plain": [
       "36*x**5 - 1/x**2"
      ]
     },
     "execution_count": 11,
     "metadata": {},
     "output_type": "execute_result"
    }
   ],
   "source": [
    "sp.diff(1/x+6*x**6)"
   ]
  },
  {
   "cell_type": "markdown",
   "id": "a26d6c49-803e-472e-918d-8094fae629f8",
   "metadata": {},
   "source": [
    "\"oppgave 2 B\""
   ]
  },
  {
   "cell_type": "code",
   "execution_count": 12,
   "id": "81316f15-6284-4164-999d-bbcc826d364c",
   "metadata": {},
   "outputs": [
    {
     "data": {
      "text/latex": [
       "$\\displaystyle 1.5 x^{2} - 1$"
      ],
      "text/plain": [
       "1.5*x**2 - 1"
      ]
     },
     "execution_count": 12,
     "metadata": {},
     "output_type": "execute_result"
    }
   ],
   "source": [
    "sp.diff(-x+1/2*x**3)\n"
   ]
  },
  {
   "cell_type": "markdown",
   "id": "dc182ec9-f7e5-48c1-af68-3d0db1ac60ba",
   "metadata": {},
   "source": [
    "\"oppgave 2 C\""
   ]
  },
  {
   "cell_type": "code",
   "execution_count": 13,
   "id": "8feb2b00-231f-4d86-828f-792c224d9174",
   "metadata": {},
   "outputs": [
    {
     "data": {
      "text/latex": [
       "$\\displaystyle x^{2} + x \\left(2 x + 2\\right) + 2 x - 3$"
      ],
      "text/plain": [
       "x**2 + x*(2*x + 2) + 2*x - 3"
      ]
     },
     "execution_count": 13,
     "metadata": {},
     "output_type": "execute_result"
    }
   ],
   "source": [
    "sp.diff(x*(x**2+2*x-3),x)"
   ]
  },
  {
   "cell_type": "code",
   "execution_count": null,
   "id": "52b27c5e-4b4d-4eea-add2-580077092f72",
   "metadata": {},
   "outputs": [],
   "source": []
  }
 ],
 "metadata": {
  "kernelspec": {
   "display_name": "Python 3 (ipykernel)",
   "language": "python",
   "name": "python3"
  },
  "language_info": {
   "codemirror_mode": {
    "name": "ipython",
    "version": 3
   },
   "file_extension": ".py",
   "mimetype": "text/x-python",
   "name": "python",
   "nbconvert_exporter": "python",
   "pygments_lexer": "ipython3",
   "version": "3.9.5"
  }
 },
 "nbformat": 4,
 "nbformat_minor": 5
}
