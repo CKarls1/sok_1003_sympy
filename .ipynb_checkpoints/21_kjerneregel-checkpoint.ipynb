{
 "cells": [
  {
   "cell_type": "code",
   "execution_count": 51,
   "id": "3cb6b8eb-d9cb-4b34-90f9-887af64c5645",
   "metadata": {},
   "outputs": [],
   "source": [
    "import matplotlib.pyplot as plt\n",
    "import numpy as np\n",
    "from sympy import symbols, Eq, solve, sqrt, ln, exp\n",
    "import sympy as sp\n",
    "x, y = sp.symbols(\"x y\")\n",
    "from sympy import factor"
   ]
  },
  {
   "cell_type": "markdown",
   "id": "32a9713d-6297-4c58-9127-5846079a16cb",
   "metadata": {},
   "source": [
    "\"oppgave 1 A\""
   ]
  },
  {
   "cell_type": "code",
   "execution_count": 52,
   "id": "8b2f6e4b-c75e-489a-9746-7fd04a24f4a3",
   "metadata": {},
   "outputs": [
    {
     "data": {
      "text/latex": [
       "$\\displaystyle 15 x^{4} \\left(x^{2} + 2\\right) \\left(x^{2} + 6\\right)^{4}$"
      ],
      "text/plain": [
       "15*x**4*(x**2 + 2)*(x**2 + 6)**4"
      ]
     },
     "execution_count": 52,
     "metadata": {},
     "output_type": "execute_result"
    }
   ],
   "source": [
    "a=sp.diff((x**3+6*x)**5)\n",
    "factor(a)"
   ]
  },
  {
   "cell_type": "markdown",
   "id": "61add3d4-77bb-4cb4-8fc5-c2792da204e8",
   "metadata": {},
   "source": [
    "\"oppgave 1 B\""
   ]
  },
  {
   "cell_type": "code",
   "execution_count": 53,
   "id": "6d72972d-1ae3-49e0-a16c-59c9f48ef34f",
   "metadata": {},
   "outputs": [
    {
     "data": {
      "text/latex": [
       "$\\displaystyle \\frac{2 x}{\\sqrt{2 x^{2} + 5}}$"
      ],
      "text/plain": [
       "2*x/sqrt(2*x**2 + 5)"
      ]
     },
     "execution_count": 53,
     "metadata": {},
     "output_type": "execute_result"
    }
   ],
   "source": [
    "a=sp.diff(sqrt(2*x**2+5))\n",
    "factor(a)"
   ]
  },
  {
   "cell_type": "markdown",
   "id": "21a7b803-93dd-4d59-91db-04a1cb679f7e",
   "metadata": {},
   "source": [
    "\"oppgave 1 C\""
   ]
  },
  {
   "cell_type": "code",
   "execution_count": 54,
   "id": "89349c84-77ab-464c-b4ef-56451f5a27fc",
   "metadata": {},
   "outputs": [
    {
     "data": {
      "text/latex": [
       "$\\displaystyle - \\frac{64 x^{3} \\left(x^{2} - 3\\right)}{\\left(x^{2} + 3\\right)^{5}}$"
      ],
      "text/plain": [
       "-64*x**3*(x**2 - 3)/(x**2 + 3)**5"
      ]
     },
     "execution_count": 54,
     "metadata": {},
     "output_type": "execute_result"
    }
   ],
   "source": [
    "a=sp.diff((2*x/(x**2+3))**4)\n",
    "factor(a)"
   ]
  },
  {
   "cell_type": "markdown",
   "id": "30f871ea-4b8d-40ed-af62-6dbab0c54cac",
   "metadata": {},
   "source": [
    "\"Oppgave 1 D\""
   ]
  },
  {
   "cell_type": "code",
   "execution_count": 55,
   "id": "88b00a5b-f283-4d05-a627-7a4fd3849939",
   "metadata": {},
   "outputs": [
    {
     "data": {
      "text/latex": [
       "$\\displaystyle 12 x^{3} \\left(2 x^{4} + 9\\right)^{2}$"
      ],
      "text/plain": [
       "12*x**3*(2*x**4 + 9)**2"
      ]
     },
     "execution_count": 55,
     "metadata": {},
     "output_type": "execute_result"
    }
   ],
   "source": [
    "a=sp.diff((2*x**4+9)**3/2)\n",
    "factor(a)"
   ]
  },
  {
   "cell_type": "markdown",
   "id": "5228a70e-9bf2-46b5-a3a2-c241183aed2b",
   "metadata": {},
   "source": [
    "\"oppgave 1 E\""
   ]
  },
  {
   "cell_type": "code",
   "execution_count": 56,
   "id": "ed6f7f91-9ca0-4e03-a3bb-012e8883f12a",
   "metadata": {},
   "outputs": [
    {
     "data": {
      "text/latex": [
       "$\\displaystyle - \\frac{x}{\\left(x^{2} + 1\\right)^{\\frac{3}{2}}}$"
      ],
      "text/plain": [
       "-x/(x**2 + 1)**(3/2)"
      ]
     },
     "execution_count": 56,
     "metadata": {},
     "output_type": "execute_result"
    }
   ],
   "source": [
    "a=sp.diff(1/(sqrt(1+x**2)))\n",
    "factor(a)"
   ]
  },
  {
   "cell_type": "markdown",
   "id": "948208a1-a963-433e-b408-48866711d990",
   "metadata": {},
   "source": [
    "\"oppgave 1 F\""
   ]
  },
  {
   "cell_type": "code",
   "execution_count": 57,
   "id": "ead427f2-5aba-462a-bf21-747df27fe33e",
   "metadata": {},
   "outputs": [
    {
     "data": {
      "text/latex": [
       "$\\displaystyle 2 x^{4} \\left(x + 2\\right)^{2} \\left(4 x + 5\\right)$"
      ],
      "text/plain": [
       "2*x**4*(x + 2)**2*(4*x + 5)"
      ]
     },
     "execution_count": 57,
     "metadata": {},
     "output_type": "execute_result"
    }
   ],
   "source": [
    "a=sp.diff(x**2*(x**2+2*x)**3)\n",
    "factor(a)"
   ]
  },
  {
   "cell_type": "markdown",
   "id": "b401db6f-eafc-4d45-9873-6d269932ff16",
   "metadata": {},
   "source": [
    "\"Oppgave 1 G\""
   ]
  },
  {
   "cell_type": "code",
   "execution_count": 58,
   "id": "04f119e6-cda7-435a-a2c8-cdf46de00274",
   "metadata": {},
   "outputs": [
    {
     "data": {
      "text/latex": [
       "$\\displaystyle \\frac{x^{2} \\left(3 x - 5\\right)}{\\sqrt{x \\left(x - 2\\right)}}$"
      ],
      "text/plain": [
       "x**2*(3*x - 5)/sqrt(x*(x - 2))"
      ]
     },
     "execution_count": 58,
     "metadata": {},
     "output_type": "execute_result"
    }
   ],
   "source": [
    "a=sp.diff(x**2*sqrt(x**2-2*x))\n",
    "factor(a)"
   ]
  },
  {
   "cell_type": "markdown",
   "id": "dbf374ff-ef7a-4f41-bb95-69c73db4382b",
   "metadata": {},
   "source": [
    "\"Oppgave 1 H\""
   ]
  },
  {
   "cell_type": "code",
   "execution_count": 59,
   "id": "237b9458-59de-408a-baa1-fac61b2c53a7",
   "metadata": {},
   "outputs": [
    {
     "data": {
      "text/latex": [
       "$\\displaystyle - \\frac{7 x + 4}{x^{5} \\left(x + 1\\right)^{4}}$"
      ],
      "text/plain": [
       "-(7*x + 4)/(x**5*(x + 1)**4)"
      ]
     },
     "execution_count": 59,
     "metadata": {},
     "output_type": "execute_result"
    }
   ],
   "source": [
    "a=sp.diff(x**2/(x**2+x**3)**3)\n",
    "factor(a)"
   ]
  },
  {
   "cell_type": "markdown",
   "id": "45b57e69-46ca-42dc-8310-2b26cb9c6430",
   "metadata": {},
   "source": [
    "\"oppgave 1 I\""
   ]
  },
  {
   "cell_type": "code",
   "execution_count": 60,
   "id": "8bb482f6-1c10-4de3-80f4-2ad58c33f716",
   "metadata": {},
   "outputs": [
    {
     "data": {
      "text/latex": [
       "$\\displaystyle x \\left(x + 1\\right)^{2} \\left(x^{2} + 1\\right) \\left(x^{2} - x + 1\\right)^{2} \\left(13 x^{3} + 9 x + 4\\right)$"
      ],
      "text/plain": [
       "x*(x + 1)**2*(x**2 + 1)*(x**2 - x + 1)**2*(13*x**3 + 9*x + 4)"
      ]
     },
     "execution_count": 60,
     "metadata": {},
     "output_type": "execute_result"
    }
   ],
   "source": [
    "a=sp.diff((x**2+1)**2*(x**3+1)**3)\n",
    "factor(a)"
   ]
  },
  {
   "cell_type": "markdown",
   "id": "210c220a-95fc-4edb-9309-02e2041ca4b8",
   "metadata": {},
   "source": [
    "\"oppgave 2 A\""
   ]
  },
  {
   "cell_type": "code",
   "execution_count": 61,
   "id": "ffe40008-2dfa-4bc0-a722-2127e3a605df",
   "metadata": {},
   "outputs": [
    {
     "data": {
      "text/latex": [
       "$\\displaystyle \\frac{4 \\sqrt{x^{4} \\left(3 x + 2\\right)^{4}} \\left(3 x + 1\\right)}{x \\left(3 x + 2\\right)}$"
      ],
      "text/plain": [
       "4*sqrt(x**4*(3*x + 2)**4)*(3*x + 1)/(x*(3*x + 2))"
      ]
     },
     "execution_count": 61,
     "metadata": {},
     "output_type": "execute_result"
    }
   ],
   "source": [
    "a=sp.diff(sqrt((3*x**2+2*x)**4))\n",
    "factor(a)"
   ]
  },
  {
   "cell_type": "markdown",
   "id": "d62ab95d-2aa9-447c-9428-0a152a206d2c",
   "metadata": {},
   "source": [
    "\"Oppgave 2 B\""
   ]
  },
  {
   "cell_type": "code",
   "execution_count": 62,
   "id": "96f212d1-8424-4d75-8f83-8814d2859c88",
   "metadata": {},
   "outputs": [
    {
     "data": {
      "text/latex": [
       "$\\displaystyle x \\left(x^{2} + 3\\right)^{3} \\left(x^{3} + 3\\right)^{4} \\left(23 x^{3} + 45 x + 24\\right)$"
      ],
      "text/plain": [
       "x*(x**2 + 3)**3*(x**3 + 3)**4*(23*x**3 + 45*x + 24)"
      ]
     },
     "execution_count": 62,
     "metadata": {},
     "output_type": "execute_result"
    }
   ],
   "source": [
    "a=sp.diff((x**3+3)**5*(x**2+3)**4)\n",
    "factor(a)"
   ]
  },
  {
   "cell_type": "markdown",
   "id": "cdf64dcf-b89f-47bf-b284-1b9f639f11da",
   "metadata": {},
   "source": [
    "\"oppgave 2 C\""
   ]
  },
  {
   "cell_type": "code",
   "execution_count": 63,
   "id": "147699cc-f900-4c06-a38a-62609c151b22",
   "metadata": {},
   "outputs": [
    {
     "data": {
      "text/latex": [
       "$\\displaystyle \\frac{x \\left(3 x^{2} + 2\\right)}{\\sqrt{x^{2} + 1}}$"
      ],
      "text/plain": [
       "x*(3*x**2 + 2)/sqrt(x**2 + 1)"
      ]
     },
     "execution_count": 63,
     "metadata": {},
     "output_type": "execute_result"
    }
   ],
   "source": [
    "a=sp.diff(sqrt(x**2+1)*x**2,x)\n",
    "factor(a)"
   ]
  },
  {
   "cell_type": "markdown",
   "id": "276135d8-3ea2-497c-adeb-526f0b6d562f",
   "metadata": {},
   "source": [
    "\"Oppgave 2 D\""
   ]
  },
  {
   "cell_type": "code",
   "execution_count": 64,
   "id": "224b6fa1-b55f-4dfb-897b-395c5f464315",
   "metadata": {},
   "outputs": [
    {
     "data": {
      "text/latex": [
       "$\\displaystyle 2 \\left(3 x + 2\\right)^{2} \\left(6 x + 1\\right)$"
      ],
      "text/plain": [
       "2*(3*x + 2)**2*(6*x + 1)"
      ]
     },
     "execution_count": 64,
     "metadata": {},
     "output_type": "execute_result"
    }
   ],
   "source": [
    "a=sp.diff((2*x+3*x**2)**3/x**2,x)\n",
    "factor(a)"
   ]
  },
  {
   "cell_type": "markdown",
   "id": "2e718af9-c082-49e2-99fc-90ec82bcb5dc",
   "metadata": {},
   "source": [
    "\"Oppgave 2 E\""
   ]
  },
  {
   "cell_type": "code",
   "execution_count": 65,
   "id": "6eb9ad13-2d6f-46e0-9d5b-fbad63aaf8a5",
   "metadata": {},
   "outputs": [
    {
     "data": {
      "text/latex": [
       "$\\displaystyle \\frac{6 x^{3}}{\\sqrt{x^{4} - 5}}$"
      ],
      "text/plain": [
       "6*x**3/sqrt(x**4 - 5)"
      ]
     },
     "execution_count": 65,
     "metadata": {},
     "output_type": "execute_result"
    }
   ],
   "source": [
    "sp.diff(3*sqrt(x**4-5))\n"
   ]
  },
  {
   "cell_type": "markdown",
   "id": "753b325e-32ee-4c5b-8847-cd1511a79384",
   "metadata": {},
   "source": [
    "\"oppgave 2 F\""
   ]
  },
  {
   "cell_type": "code",
   "execution_count": 66,
   "id": "6a335ce7-7cb4-4073-bbc7-97e8f1375b9a",
   "metadata": {},
   "outputs": [
    {
     "data": {
      "text/latex": [
       "$\\displaystyle \\frac{x^{2} \\left(x^{4} - 3\\right)}{\\left(\\left(x - 1\\right) \\left(x + 1\\right) \\left(x^{2} + 1\\right)\\right)^{\\frac{3}{2}}}$"
      ],
      "text/plain": [
       "x**2*(x**4 - 3)/((x - 1)*(x + 1)*(x**2 + 1))**(3/2)"
      ]
     },
     "execution_count": 66,
     "metadata": {},
     "output_type": "execute_result"
    }
   ],
   "source": [
    "a=sp.diff(x**3/sqrt(x**4-1),x)\n",
    "factor(a)"
   ]
  },
  {
   "cell_type": "code",
   "execution_count": null,
   "id": "7047540f-7e51-4f2c-ac34-0c339baee923",
   "metadata": {},
   "outputs": [],
   "source": []
  }
 ],
 "metadata": {
  "kernelspec": {
   "display_name": "Python 3 (ipykernel)",
   "language": "python",
   "name": "python3"
  },
  "language_info": {
   "codemirror_mode": {
    "name": "ipython",
    "version": 3
   },
   "file_extension": ".py",
   "mimetype": "text/x-python",
   "name": "python",
   "nbconvert_exporter": "python",
   "pygments_lexer": "ipython3",
   "version": "3.9.5"
  }
 },
 "nbformat": 4,
 "nbformat_minor": 5
}
