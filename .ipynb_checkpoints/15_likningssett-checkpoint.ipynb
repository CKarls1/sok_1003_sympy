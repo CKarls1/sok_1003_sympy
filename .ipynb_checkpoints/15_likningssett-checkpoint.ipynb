{
 "cells": [
  {
   "cell_type": "code",
   "execution_count": 30,
   "id": "6011167d-9424-4578-8699-379f73b1bbf8",
   "metadata": {},
   "outputs": [
    {
     "data": {
      "text/plain": [
       "'oppgave 1 A'"
      ]
     },
     "execution_count": 30,
     "metadata": {},
     "output_type": "execute_result"
    }
   ],
   "source": [
    "\"oppgave 1 A\""
   ]
  },
  {
   "cell_type": "code",
   "execution_count": 22,
   "id": "65d36e74-3cb0-451d-a553-93df75df75c3",
   "metadata": {},
   "outputs": [],
   "source": [
    "import sympy as sp\n",
    "x,y=sp.symbols('x y')"
   ]
  },
  {
   "cell_type": "code",
   "execution_count": 23,
   "id": "57372649-ae6b-4cb2-b686-e774a525db85",
   "metadata": {},
   "outputs": [
    {
     "data": {
      "text/latex": [
       "$\\displaystyle 2 x + 4 y = 6$"
      ],
      "text/plain": [
       "Eq(2*x + 4*y, 6)"
      ]
     },
     "execution_count": 23,
     "metadata": {},
     "output_type": "execute_result"
    }
   ],
   "source": [
    "eq1=sp.Eq(2*x+4*y,6)\n",
    "eq1"
   ]
  },
  {
   "cell_type": "code",
   "execution_count": 24,
   "id": "b8352b52-afd6-4958-a710-8c6fbb18a768",
   "metadata": {},
   "outputs": [
    {
     "data": {
      "text/latex": [
       "$\\displaystyle - 2 x + y = 4$"
      ],
      "text/plain": [
       "Eq(-2*x + y, 4)"
      ]
     },
     "execution_count": 24,
     "metadata": {},
     "output_type": "execute_result"
    }
   ],
   "source": [
    "eq2=sp.Eq(-2*x+y,4)\n",
    "eq2"
   ]
  },
  {
   "cell_type": "code",
   "execution_count": 25,
   "id": "fcc0f777-bf40-430b-87d9-8ba55a8ad882",
   "metadata": {},
   "outputs": [
    {
     "data": {
      "text/plain": [
       "{x: -1, y: 2}"
      ]
     },
     "execution_count": 25,
     "metadata": {},
     "output_type": "execute_result"
    }
   ],
   "source": [
    "from sympy.solvers import solve\n",
    "\n",
    "solve([eq1,eq2],[x,y])"
   ]
  },
  {
   "cell_type": "code",
   "execution_count": 31,
   "id": "87544da1-c136-4648-9bba-229cc83678c0",
   "metadata": {},
   "outputs": [
    {
     "data": {
      "text/plain": [
       "'oppgave 1 B'"
      ]
     },
     "execution_count": 31,
     "metadata": {},
     "output_type": "execute_result"
    }
   ],
   "source": [
    "\"oppgave 1 B\""
   ]
  },
  {
   "cell_type": "code",
   "execution_count": 26,
   "id": "f420c5aa-b485-40fa-a47f-f9b18d614658",
   "metadata": {},
   "outputs": [
    {
     "data": {
      "text/latex": [
       "$\\displaystyle 2 x - y = -1$"
      ],
      "text/plain": [
       "Eq(2*x - y, -1)"
      ]
     },
     "execution_count": 26,
     "metadata": {},
     "output_type": "execute_result"
    }
   ],
   "source": [
    "eq1=sp.Eq(2*x-y,-1)\n",
    "eq1"
   ]
  },
  {
   "cell_type": "code",
   "execution_count": 28,
   "id": "53105f50-a292-44c5-9aa3-751fa7bebcc3",
   "metadata": {},
   "outputs": [
    {
     "data": {
      "text/latex": [
       "$\\displaystyle x^{2} + x - y = 1$"
      ],
      "text/plain": [
       "Eq(x**2 + x - y, 1)"
      ]
     },
     "execution_count": 28,
     "metadata": {},
     "output_type": "execute_result"
    }
   ],
   "source": [
    "eq2=sp.Eq(x**2+x-y,1)\n",
    "eq2"
   ]
  },
  {
   "cell_type": "code",
   "execution_count": 29,
   "id": "a2bb1fba-2ecd-473a-a2d9-dcaa103d6d8a",
   "metadata": {},
   "outputs": [
    {
     "data": {
      "text/plain": [
       "[(-1, -1), (2, 5)]"
      ]
     },
     "execution_count": 29,
     "metadata": {},
     "output_type": "execute_result"
    }
   ],
   "source": [
    "from sympy.solvers import solve\n",
    "\n",
    "solve([eq1,eq2],[x,y])"
   ]
  },
  {
   "cell_type": "code",
   "execution_count": 32,
   "id": "937905c8-717c-4058-aa37-228bff14e33d",
   "metadata": {},
   "outputs": [
    {
     "data": {
      "text/plain": [
       "'oppgave 2 A'"
      ]
     },
     "execution_count": 32,
     "metadata": {},
     "output_type": "execute_result"
    }
   ],
   "source": [
    "\"oppgave 2 A\""
   ]
  },
  {
   "cell_type": "code",
   "execution_count": 34,
   "id": "78adcb52-30c7-4fcf-a67b-77a5f212ca93",
   "metadata": {},
   "outputs": [
    {
     "data": {
      "text/latex": [
       "$\\displaystyle 3 x - 12 = - 6 y$"
      ],
      "text/plain": [
       "Eq(3*x - 12, -6*y)"
      ]
     },
     "execution_count": 34,
     "metadata": {},
     "output_type": "execute_result"
    }
   ],
   "source": [
    "eq1=sp.Eq(3*x-12,-6*y)\n",
    "eq1"
   ]
  },
  {
   "cell_type": "code",
   "execution_count": 35,
   "id": "8d096f06-2fe8-49e4-8356-bb4fded1b4a6",
   "metadata": {},
   "outputs": [
    {
     "data": {
      "text/latex": [
       "$\\displaystyle 4 x - 8 y = 16$"
      ],
      "text/plain": [
       "Eq(4*x - 8*y, 16)"
      ]
     },
     "execution_count": 35,
     "metadata": {},
     "output_type": "execute_result"
    }
   ],
   "source": [
    "eq2=sp.Eq(4*x-8*y,16)\n",
    "eq2"
   ]
  },
  {
   "cell_type": "code",
   "execution_count": 36,
   "id": "45bed3ab-275a-4577-a471-5135bed4988c",
   "metadata": {},
   "outputs": [
    {
     "data": {
      "text/plain": [
       "{x: 4, y: 0}"
      ]
     },
     "execution_count": 36,
     "metadata": {},
     "output_type": "execute_result"
    }
   ],
   "source": [
    "from sympy.solvers import solve\n",
    "\n",
    "solve([eq1,eq2],[x,y])"
   ]
  },
  {
   "cell_type": "code",
   "execution_count": 37,
   "id": "0d75dc85-6c5c-48c9-8139-84b3907effcf",
   "metadata": {},
   "outputs": [
    {
     "data": {
      "text/plain": [
       "'oppgave 2 B'"
      ]
     },
     "execution_count": 37,
     "metadata": {},
     "output_type": "execute_result"
    }
   ],
   "source": [
    "\"oppgave 2 B\""
   ]
  },
  {
   "cell_type": "code",
   "execution_count": 38,
   "id": "3bfcf068-a5b7-4f15-8088-18c8e7ceb2c4",
   "metadata": {},
   "outputs": [
    {
     "data": {
      "text/latex": [
       "$\\displaystyle x^{2} + 4 x - 3 = 3 y$"
      ],
      "text/plain": [
       "Eq(x**2 + 4*x - 3, 3*y)"
      ]
     },
     "execution_count": 38,
     "metadata": {},
     "output_type": "execute_result"
    }
   ],
   "source": [
    "eq1=sp.Eq(x**2+4*x-3,3*y)\n",
    "eq1"
   ]
  },
  {
   "cell_type": "code",
   "execution_count": 39,
   "id": "6b7494a3-4d73-471a-9b73-3326934e5207",
   "metadata": {},
   "outputs": [
    {
     "data": {
      "text/latex": [
       "$\\displaystyle 2 y = 8 - x$"
      ],
      "text/plain": [
       "Eq(2*y, 8 - x)"
      ]
     },
     "execution_count": 39,
     "metadata": {},
     "output_type": "execute_result"
    }
   ],
   "source": [
    "eq2=sp.Eq(2*y,8-x)\n",
    "eq2"
   ]
  },
  {
   "cell_type": "code",
   "execution_count": 40,
   "id": "1a5b276c-a8b2-4c7f-8c06-ae53a151ed97",
   "metadata": {},
   "outputs": [
    {
     "data": {
      "text/plain": [
       "[(-15/2, 31/4), (2, 3)]"
      ]
     },
     "execution_count": 40,
     "metadata": {},
     "output_type": "execute_result"
    }
   ],
   "source": [
    "from sympy.solvers import solve\n",
    "\n",
    "solve([eq1,eq2],[x,y])"
   ]
  },
  {
   "cell_type": "code",
   "execution_count": null,
   "id": "cd0a9627-fdd0-4fc7-82d9-8dd3e61b141d",
   "metadata": {},
   "outputs": [],
   "source": []
  }
 ],
 "metadata": {
  "kernelspec": {
   "display_name": "Python 3 (ipykernel)",
   "language": "python",
   "name": "python3"
  },
  "language_info": {
   "codemirror_mode": {
    "name": "ipython",
    "version": 3
   },
   "file_extension": ".py",
   "mimetype": "text/x-python",
   "name": "python",
   "nbconvert_exporter": "python",
   "pygments_lexer": "ipython3",
   "version": "3.9.5"
  }
 },
 "nbformat": 4,
 "nbformat_minor": 5
}
