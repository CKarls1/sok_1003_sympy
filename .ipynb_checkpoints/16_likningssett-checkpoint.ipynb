{
 "cells": [
  {
   "cell_type": "markdown",
   "id": "09d6ff83-27fa-4ede-8d83-e540fb3f4b28",
   "metadata": {},
   "source": [
    "\"oppgave 1 A\""
   ]
  },
  {
   "cell_type": "code",
   "execution_count": 1,
   "id": "65d36e74-3cb0-451d-a553-93df75df75c3",
   "metadata": {},
   "outputs": [],
   "source": [
    "import sympy as sp\n",
    "x,y=sp.symbols('x y')"
   ]
  },
  {
   "cell_type": "code",
   "execution_count": 2,
   "id": "57372649-ae6b-4cb2-b686-e774a525db85",
   "metadata": {},
   "outputs": [
    {
     "data": {
      "text/latex": [
       "$\\displaystyle 4 x + 2 y = 12$"
      ],
      "text/plain": [
       "Eq(4*x + 2*y, 12)"
      ]
     },
     "execution_count": 2,
     "metadata": {},
     "output_type": "execute_result"
    }
   ],
   "source": [
    "eq1=sp.Eq(4*x+2*y,12)\n",
    "eq1"
   ]
  },
  {
   "cell_type": "code",
   "execution_count": 3,
   "id": "b8352b52-afd6-4958-a710-8c6fbb18a768",
   "metadata": {},
   "outputs": [
    {
     "data": {
      "text/latex": [
       "$\\displaystyle 6 x - 2 y = 8$"
      ],
      "text/plain": [
       "Eq(6*x - 2*y, 8)"
      ]
     },
     "execution_count": 3,
     "metadata": {},
     "output_type": "execute_result"
    }
   ],
   "source": [
    "eq2=sp.Eq(6*x-2*y,8)\n",
    "eq2"
   ]
  },
  {
   "cell_type": "code",
   "execution_count": 4,
   "id": "fcc0f777-bf40-430b-87d9-8ba55a8ad882",
   "metadata": {},
   "outputs": [
    {
     "data": {
      "text/plain": [
       "{x: 2, y: 2}"
      ]
     },
     "execution_count": 4,
     "metadata": {},
     "output_type": "execute_result"
    }
   ],
   "source": [
    "from sympy.solvers import solve\n",
    "\n",
    "solve([eq1,eq2],[x,y])"
   ]
  },
  {
   "cell_type": "markdown",
   "id": "88ee501e-9b8b-4892-89db-8df2917cb0bf",
   "metadata": {},
   "source": [
    "\"oppgave 1 B\""
   ]
  },
  {
   "cell_type": "code",
   "execution_count": 5,
   "id": "f420c5aa-b485-40fa-a47f-f9b18d614658",
   "metadata": {},
   "outputs": [
    {
     "data": {
      "text/latex": [
       "$\\displaystyle 2 x + y^{2} = 25$"
      ],
      "text/plain": [
       "Eq(2*x + y**2, 25)"
      ]
     },
     "execution_count": 5,
     "metadata": {},
     "output_type": "execute_result"
    }
   ],
   "source": [
    "eq1=sp.Eq(2*x+y**2,25)\n",
    "eq1"
   ]
  },
  {
   "cell_type": "code",
   "execution_count": 6,
   "id": "53105f50-a292-44c5-9aa3-751fa7bebcc3",
   "metadata": {},
   "outputs": [
    {
     "data": {
      "text/latex": [
       "$\\displaystyle x - 2 y = 10$"
      ],
      "text/plain": [
       "Eq(x - 2*y, 10)"
      ]
     },
     "execution_count": 6,
     "metadata": {},
     "output_type": "execute_result"
    }
   ],
   "source": [
    "eq2=sp.Eq(x+-2*y,10)\n",
    "eq2"
   ]
  },
  {
   "cell_type": "code",
   "execution_count": 7,
   "id": "a2bb1fba-2ecd-473a-a2d9-dcaa103d6d8a",
   "metadata": {},
   "outputs": [
    {
     "data": {
      "text/plain": [
       "[(0, -5), (12, 1)]"
      ]
     },
     "execution_count": 7,
     "metadata": {},
     "output_type": "execute_result"
    }
   ],
   "source": [
    "from sympy.solvers import solve\n",
    "\n",
    "solve([eq1,eq2],[x,y])"
   ]
  },
  {
   "cell_type": "markdown",
   "id": "96f1255c-a24f-4882-91c8-7ecb4763b8ea",
   "metadata": {},
   "source": [
    "\"oppgave 2 A\""
   ]
  },
  {
   "cell_type": "code",
   "execution_count": 8,
   "id": "78adcb52-30c7-4fcf-a67b-77a5f212ca93",
   "metadata": {},
   "outputs": [
    {
     "data": {
      "text/latex": [
       "$\\displaystyle 4 x - 4 y = 8$"
      ],
      "text/plain": [
       "Eq(4*x - 4*y, 8)"
      ]
     },
     "execution_count": 8,
     "metadata": {},
     "output_type": "execute_result"
    }
   ],
   "source": [
    "eq1=sp.Eq(4*x-4*y,8)\n",
    "eq1"
   ]
  },
  {
   "cell_type": "code",
   "execution_count": 9,
   "id": "8d096f06-2fe8-49e4-8356-bb4fded1b4a6",
   "metadata": {},
   "outputs": [
    {
     "data": {
      "text/latex": [
       "$\\displaystyle 9 x - 5 y = 26$"
      ],
      "text/plain": [
       "Eq(9*x - 5*y, 26)"
      ]
     },
     "execution_count": 9,
     "metadata": {},
     "output_type": "execute_result"
    }
   ],
   "source": [
    "eq2=sp.Eq(9*x-5*y,26)\n",
    "eq2"
   ]
  },
  {
   "cell_type": "code",
   "execution_count": 10,
   "id": "45bed3ab-275a-4577-a471-5135bed4988c",
   "metadata": {},
   "outputs": [
    {
     "data": {
      "text/plain": [
       "{x: 4, y: 2}"
      ]
     },
     "execution_count": 10,
     "metadata": {},
     "output_type": "execute_result"
    }
   ],
   "source": [
    "from sympy.solvers import solve\n",
    "\n",
    "solve([eq1,eq2],[x,y])"
   ]
  },
  {
   "cell_type": "markdown",
   "id": "a47a9234-0c7b-4468-b125-b88b35494478",
   "metadata": {},
   "source": [
    "\"oppgave 2 B\""
   ]
  },
  {
   "cell_type": "code",
   "execution_count": 11,
   "id": "3bfcf068-a5b7-4f15-8088-18c8e7ceb2c4",
   "metadata": {},
   "outputs": [
    {
     "data": {
      "text/latex": [
       "$\\displaystyle x + 2 y^{2} = 15$"
      ],
      "text/plain": [
       "Eq(x + 2*y**2, 15)"
      ]
     },
     "execution_count": 11,
     "metadata": {},
     "output_type": "execute_result"
    }
   ],
   "source": [
    "eq1=sp.Eq(x+2*y**2,15)\n",
    "eq1"
   ]
  },
  {
   "cell_type": "code",
   "execution_count": 12,
   "id": "6b7494a3-4d73-471a-9b73-3326934e5207",
   "metadata": {},
   "outputs": [
    {
     "data": {
      "text/latex": [
       "$\\displaystyle x^{2} - 4 y^{2} = 33$"
      ],
      "text/plain": [
       "Eq(x**2 - 4*y**2, 33)"
      ]
     },
     "execution_count": 12,
     "metadata": {},
     "output_type": "execute_result"
    }
   ],
   "source": [
    "eq2=sp.Eq(x**2-4*y**2,33)\n",
    "eq2"
   ]
  },
  {
   "cell_type": "code",
   "execution_count": 13,
   "id": "1a5b276c-a8b2-4c7f-8c06-ae53a151ed97",
   "metadata": {},
   "outputs": [
    {
     "data": {
      "text/plain": [
       "[(-9, -2*sqrt(3)), (-9, 2*sqrt(3)), (7, -2), (7, 2)]"
      ]
     },
     "execution_count": 13,
     "metadata": {},
     "output_type": "execute_result"
    }
   ],
   "source": [
    "from sympy.solvers import solve\n",
    "\n",
    "solve([eq1,eq2],[x,y])"
   ]
  },
  {
   "cell_type": "code",
   "execution_count": null,
   "id": "cd0a9627-fdd0-4fc7-82d9-8dd3e61b141d",
   "metadata": {
    "jupyter": {
     "source_hidden": true
    },
    "tags": []
   },
   "outputs": [],
   "source": []
  }
 ],
 "metadata": {
  "kernelspec": {
   "display_name": "Python 3 (ipykernel)",
   "language": "python",
   "name": "python3"
  },
  "language_info": {
   "codemirror_mode": {
    "name": "ipython",
    "version": 3
   },
   "file_extension": ".py",
   "mimetype": "text/x-python",
   "name": "python",
   "nbconvert_exporter": "python",
   "pygments_lexer": "ipython3",
   "version": "3.9.5"
  }
 },
 "nbformat": 4,
 "nbformat_minor": 5
}
