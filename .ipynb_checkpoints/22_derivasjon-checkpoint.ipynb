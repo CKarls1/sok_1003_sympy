{
 "cells": [
  {
   "cell_type": "code",
   "execution_count": 25,
   "id": "0401a179-9f6b-4978-9117-8d3484918290",
   "metadata": {},
   "outputs": [],
   "source": [
    "import matplotlib.pyplot as plt\n",
    "import numpy as np\n",
    "from sympy import symbols, Eq, solve, sqrt, ln, exp\n",
    "import sympy as sp\n",
    "from sympy import factor\n",
    "x, y = sp.symbols(\"x y\")"
   ]
  },
  {
   "cell_type": "markdown",
   "id": "ab716750-fff1-4fb6-903d-1180e7739283",
   "metadata": {},
   "source": [
    "\"oppgave 1 A\""
   ]
  },
  {
   "cell_type": "code",
   "execution_count": 26,
   "id": "b7c0452b-36ff-4e88-98b8-772dbb936b83",
   "metadata": {},
   "outputs": [
    {
     "data": {
      "text/latex": [
       "$\\displaystyle \\frac{1}{x}$"
      ],
      "text/plain": [
       "1/x"
      ]
     },
     "execution_count": 26,
     "metadata": {},
     "output_type": "execute_result"
    }
   ],
   "source": [
    "a=sp.diff(ln(5*x))\n",
    "factor(a)"
   ]
  },
  {
   "cell_type": "markdown",
   "id": "53f4e93e-4f34-4375-ae4e-b63371f30668",
   "metadata": {},
   "source": [
    "\"oppgave 1 B\""
   ]
  },
  {
   "cell_type": "code",
   "execution_count": 27,
   "id": "26e7e337-3320-499b-ba26-a9084e19bef6",
   "metadata": {},
   "outputs": [
    {
     "data": {
      "text/latex": [
       "$\\displaystyle - 2 e^{- 2 x}$"
      ],
      "text/plain": [
       "-2*exp(-2*x)"
      ]
     },
     "execution_count": 27,
     "metadata": {},
     "output_type": "execute_result"
    }
   ],
   "source": [
    "a=sp.diff(exp(-2*x))\n",
    "factor(a)"
   ]
  },
  {
   "cell_type": "markdown",
   "id": "bb4073d2-fadb-4e14-808a-3671fde1d794",
   "metadata": {},
   "source": [
    "\"oppgave 1 C\""
   ]
  },
  {
   "cell_type": "code",
   "execution_count": 28,
   "id": "f5d634dc-32cf-4872-949e-7b5156c593ef",
   "metadata": {},
   "outputs": [
    {
     "data": {
      "text/latex": [
       "$\\displaystyle \\frac{1}{x}$"
      ],
      "text/plain": [
       "1/x"
      ]
     },
     "execution_count": 28,
     "metadata": {},
     "output_type": "execute_result"
    }
   ],
   "source": [
    "a=sp.diff(ln(12*x)-3)\n",
    "factor(a)"
   ]
  },
  {
   "cell_type": "markdown",
   "id": "2fb67176-0fc9-43fe-9c7b-c1e073ea3251",
   "metadata": {},
   "source": [
    "\"oppgave 1 D\""
   ]
  },
  {
   "cell_type": "code",
   "execution_count": 29,
   "id": "24d5d6b1-fb9b-4bf2-82ea-25790790e7e0",
   "metadata": {},
   "outputs": [
    {
     "data": {
      "text/latex": [
       "$\\displaystyle 2^{x} \\log{\\left(2 \\right)}$"
      ],
      "text/plain": [
       "2**x*log(2)"
      ]
     },
     "execution_count": 29,
     "metadata": {},
     "output_type": "execute_result"
    }
   ],
   "source": [
    "a=sp.diff(2**x)\n",
    "factor(a)"
   ]
  },
  {
   "cell_type": "markdown",
   "id": "9d4eb070-5760-4a90-a4b9-fdda9ff03638",
   "metadata": {},
   "source": [
    "\"oppgave 1 E\""
   ]
  },
  {
   "cell_type": "code",
   "execution_count": 30,
   "id": "7d605416-4962-47e0-9475-9f3f91ebbf78",
   "metadata": {},
   "outputs": [
    {
     "data": {
      "text/latex": [
       "$\\displaystyle 3 e^{5} e^{3 x}$"
      ],
      "text/plain": [
       "3*exp(5)*exp(3*x)"
      ]
     },
     "execution_count": 30,
     "metadata": {},
     "output_type": "execute_result"
    }
   ],
   "source": [
    "a=sp.diff(exp(3*x+5))\n",
    "factor(a)"
   ]
  },
  {
   "cell_type": "markdown",
   "id": "b52122f5-ea18-4b0b-b2a1-676ac1582a75",
   "metadata": {},
   "source": [
    "\"oppgave 1 F\""
   ]
  },
  {
   "cell_type": "code",
   "execution_count": 31,
   "id": "6356dd5f-49d7-44f7-a154-4b711243568d",
   "metadata": {},
   "outputs": [
    {
     "data": {
      "text/latex": [
       "$\\displaystyle \\frac{5 x^{4}}{x^{5} + 1}$"
      ],
      "text/plain": [
       "5*x**4/(x**5 + 1)"
      ]
     },
     "execution_count": 31,
     "metadata": {},
     "output_type": "execute_result"
    }
   ],
   "source": [
    "sp.diff(ln(x**5+1))"
   ]
  },
  {
   "cell_type": "markdown",
   "id": "43988e84-98b2-4f30-87a2-fd06625309bb",
   "metadata": {},
   "source": [
    "\"oppgave 1 G\""
   ]
  },
  {
   "cell_type": "code",
   "execution_count": 32,
   "id": "6a566076-6a6e-492e-bd69-b28152114e24",
   "metadata": {},
   "outputs": [
    {
     "data": {
      "text/latex": [
       "$\\displaystyle \\left(8 x + 8\\right) e^{4 x^{2} + 8 x}$"
      ],
      "text/plain": [
       "(8*x + 8)*exp(4*x**2 + 8*x)"
      ]
     },
     "execution_count": 32,
     "metadata": {},
     "output_type": "execute_result"
    }
   ],
   "source": [
    "sp.diff(exp(4*x**2+8*x),x)"
   ]
  },
  {
   "cell_type": "markdown",
   "id": "5f4a9023-52cf-4339-a71a-c49f442e5f38",
   "metadata": {},
   "source": [
    "\"Oppgave 1 H\""
   ]
  },
  {
   "cell_type": "code",
   "execution_count": 33,
   "id": "6d04dc0d-c63a-4afc-9315-eabc9568bc35",
   "metadata": {},
   "outputs": [
    {
     "data": {
      "text/latex": [
       "$\\displaystyle - \\frac{1}{x}$"
      ],
      "text/plain": [
       "-1/x"
      ]
     },
     "execution_count": 33,
     "metadata": {},
     "output_type": "execute_result"
    }
   ],
   "source": [
    "sp.diff(ln(1/x))"
   ]
  },
  {
   "cell_type": "markdown",
   "id": "c9512c67-a881-4231-9994-52d79d59c69c",
   "metadata": {},
   "source": [
    "\"oppgave 1 I\""
   ]
  },
  {
   "cell_type": "code",
   "execution_count": 34,
   "id": "b36af7db-8ac1-4619-b506-24e9a63edb67",
   "metadata": {},
   "outputs": [
    {
     "data": {
      "text/latex": [
       "$\\displaystyle 12 e^{4 x} + \\frac{6}{x}$"
      ],
      "text/plain": [
       "12*exp(4*x) + 6/x"
      ]
     },
     "execution_count": 34,
     "metadata": {},
     "output_type": "execute_result"
    }
   ],
   "source": [
    "sp.diff(6*ln(x)+3*exp(4*x))"
   ]
  },
  {
   "cell_type": "markdown",
   "id": "73e5de70-c0aa-4c0b-bfca-353a375070be",
   "metadata": {},
   "source": [
    "\"Oppgave 1 J\""
   ]
  },
  {
   "cell_type": "code",
   "execution_count": 35,
   "id": "5a117af5-8794-4fe2-b699-2c5de272d953",
   "metadata": {},
   "outputs": [
    {
     "data": {
      "text/latex": [
       "$\\displaystyle - x e^{- x} + e^{- x}$"
      ],
      "text/plain": [
       "-x*exp(-x) + exp(-x)"
      ]
     },
     "execution_count": 35,
     "metadata": {},
     "output_type": "execute_result"
    }
   ],
   "source": [
    "sp.diff(x*exp(-x))"
   ]
  },
  {
   "cell_type": "markdown",
   "id": "4ff8914b-3a25-47d9-8caf-ca342d9158fa",
   "metadata": {},
   "source": [
    "\"oppgave 1 K\""
   ]
  },
  {
   "cell_type": "code",
   "execution_count": 36,
   "id": "8107a8ff-458f-4f13-80e2-bb81259a768e",
   "metadata": {},
   "outputs": [
    {
     "data": {
      "text/latex": [
       "$\\displaystyle \\frac{2 x^{3}}{x^{2} + 2} + 2 x \\log{\\left(x^{2} + 2 \\right)}$"
      ],
      "text/plain": [
       "2*x**3/(x**2 + 2) + 2*x*log(x**2 + 2)"
      ]
     },
     "execution_count": 36,
     "metadata": {},
     "output_type": "execute_result"
    }
   ],
   "source": [
    "\n",
    "sp.diff(x**2*ln(x**2+2))"
   ]
  },
  {
   "cell_type": "markdown",
   "id": "e358aa3e-91e0-447c-840f-9c0fb19ad7f6",
   "metadata": {},
   "source": [
    "\"Oppgave 2 A\""
   ]
  },
  {
   "cell_type": "code",
   "execution_count": 37,
   "id": "8ec2f4a8-eb88-49b3-99a2-af1180825ec1",
   "metadata": {},
   "outputs": [
    {
     "data": {
      "text/latex": [
       "$\\displaystyle x^{2} \\left(2 x + 3\\right) e^{2 x}$"
      ],
      "text/plain": [
       "x**2*(2*x + 3)*exp(2*x)"
      ]
     },
     "execution_count": 37,
     "metadata": {},
     "output_type": "execute_result"
    }
   ],
   "source": [
    "a=sp.diff(x**3*exp(2*x))\n",
    "factor(a)"
   ]
  },
  {
   "cell_type": "markdown",
   "id": "fcd481af-800f-4d48-adf3-b90c87f1029c",
   "metadata": {},
   "source": [
    "\"oppgave 2 B\""
   ]
  },
  {
   "cell_type": "code",
   "execution_count": 38,
   "id": "b91c6a23-e824-429e-b3b9-795d74c2d650",
   "metadata": {},
   "outputs": [
    {
     "data": {
      "text/latex": [
       "$\\displaystyle \\frac{4 x}{\\left(x - 1\\right) \\left(x + 1\\right) \\left(x^{2} + 1\\right)}$"
      ],
      "text/plain": [
       "4*x/((x - 1)*(x + 1)*(x**2 + 1))"
      ]
     },
     "execution_count": 38,
     "metadata": {},
     "output_type": "execute_result"
    }
   ],
   "source": [
    "a=sp.diff(ln((x**2-1)/(x**2+1)),x)\n",
    "factor(a)"
   ]
  },
  {
   "cell_type": "markdown",
   "id": "18a452f3-38d3-442e-93bf-4b12c26fbf89",
   "metadata": {},
   "source": [
    "\"oppgave 2 C\""
   ]
  },
  {
   "cell_type": "code",
   "execution_count": 39,
   "id": "9433349c-9140-43bc-bb05-f33e1560672c",
   "metadata": {},
   "outputs": [
    {
     "data": {
      "text/latex": [
       "$\\displaystyle \\frac{2 x^{3}}{x^{2} + 2} + 2 x \\log{\\left(x^{2} + 2 \\right)}$"
      ],
      "text/plain": [
       "2*x**3/(x**2 + 2) + 2*x*log(x**2 + 2)"
      ]
     },
     "execution_count": 39,
     "metadata": {},
     "output_type": "execute_result"
    }
   ],
   "source": [
    "sp.diff(x**2*ln(x**2+2))"
   ]
  },
  {
   "cell_type": "markdown",
   "id": "970d2ea4-7a27-441b-835b-15ead8118218",
   "metadata": {},
   "source": [
    "\"oppgave 2 D\""
   ]
  },
  {
   "cell_type": "code",
   "execution_count": 40,
   "id": "18bc3555-f04f-462a-94ac-6ce95878fab1",
   "metadata": {},
   "outputs": [
    {
     "data": {
      "text/latex": [
       "$\\displaystyle - \\frac{\\left(x + 1\\right)^{2} e^{- x}}{\\left(x^{2} + 1\\right)^{2}}$"
      ],
      "text/plain": [
       "-(x + 1)**2*exp(-x)/(x**2 + 1)**2"
      ]
     },
     "execution_count": 40,
     "metadata": {},
     "output_type": "execute_result"
    }
   ],
   "source": [
    "a=sp.diff((exp(-x)/(x**2+1)))\n",
    "factor(a)"
   ]
  },
  {
   "cell_type": "code",
   "execution_count": null,
   "id": "4848d88d-8574-4a2f-8e3c-514e3d57f4fa",
   "metadata": {},
   "outputs": [],
   "source": []
  }
 ],
 "metadata": {
  "kernelspec": {
   "display_name": "Python 3 (ipykernel)",
   "language": "python",
   "name": "python3"
  },
  "language_info": {
   "codemirror_mode": {
    "name": "ipython",
    "version": 3
   },
   "file_extension": ".py",
   "mimetype": "text/x-python",
   "name": "python",
   "nbconvert_exporter": "python",
   "pygments_lexer": "ipython3",
   "version": "3.9.5"
  }
 },
 "nbformat": 4,
 "nbformat_minor": 5
}
