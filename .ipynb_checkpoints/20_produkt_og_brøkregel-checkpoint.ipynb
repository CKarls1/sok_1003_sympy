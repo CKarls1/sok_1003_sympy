{
 "cells": [
  {
   "cell_type": "code",
   "execution_count": 66,
   "id": "2d291294-cab9-44c1-848a-53e31bee468b",
   "metadata": {},
   "outputs": [],
   "source": [
    "import matplotlib.pyplot as plt\n",
    "import numpy as np\n",
    "from sympy import symbols, Eq, solve, sqrt, ln, exp\n",
    "import sympy as sp\n",
    "x, y = sp.symbols(\"x y\")\n",
    "from sympy import factor"
   ]
  },
  {
   "cell_type": "markdown",
   "id": "c2cc81a2-31b9-424d-a758-86d9f8c0f19f",
   "metadata": {},
   "source": [
    "\"oppgave 1 E\""
   ]
  },
  {
   "cell_type": "code",
   "execution_count": 67,
   "id": "70f8c34a-2b9c-4e25-94c5-5b6a32ce48e7",
   "metadata": {},
   "outputs": [
    {
     "data": {
      "text/latex": [
       "$\\displaystyle 9 x^{8}$"
      ],
      "text/plain": [
       "9*x**8"
      ]
     },
     "execution_count": 67,
     "metadata": {},
     "output_type": "execute_result"
    }
   ],
   "source": [
    "sp.diff(x**4*x**5)"
   ]
  },
  {
   "cell_type": "markdown",
   "id": "627e9c24-a20a-442d-8c5f-8b0fd32726ff",
   "metadata": {},
   "source": [
    "\"oppgave 1 F\""
   ]
  },
  {
   "cell_type": "code",
   "execution_count": 68,
   "id": "99b695dd-2938-4094-8529-f5cf06e803e1",
   "metadata": {},
   "outputs": [
    {
     "data": {
      "text/latex": [
       "$\\displaystyle \\frac{3 \\sqrt{x}}{2}$"
      ],
      "text/plain": [
       "3*sqrt(x)/2"
      ]
     },
     "execution_count": 68,
     "metadata": {},
     "output_type": "execute_result"
    }
   ],
   "source": [
    "sp.diff(x*sqrt(x),x)"
   ]
  },
  {
   "cell_type": "markdown",
   "id": "b8dbfbc3-64a6-423c-b7cc-56ba69d2ec9f",
   "metadata": {},
   "source": [
    "\"oppgave 1 G\""
   ]
  },
  {
   "cell_type": "code",
   "execution_count": 69,
   "id": "fbceb179-a6ca-42b0-8887-bf2e2c30db0d",
   "metadata": {},
   "outputs": [
    {
     "data": {
      "text/latex": [
       "$\\displaystyle - \\frac{6}{x^{4}}$"
      ],
      "text/plain": [
       "-6/x**4"
      ]
     },
     "execution_count": 69,
     "metadata": {},
     "output_type": "execute_result"
    }
   ],
   "source": [
    "sp.diff(2/x**3)"
   ]
  },
  {
   "cell_type": "markdown",
   "id": "2d06afb2-9916-4c85-b1bc-734e78fa6cab",
   "metadata": {},
   "source": [
    "\"oppgave 1 H\""
   ]
  },
  {
   "cell_type": "code",
   "execution_count": 70,
   "id": "53518889-1425-47f8-addc-88a61e442d4e",
   "metadata": {},
   "outputs": [
    {
     "data": {
      "text/latex": [
       "$\\displaystyle - \\frac{x^{2} - 6}{x^{4}}$"
      ],
      "text/plain": [
       "-(x**2 - 6)/x**4"
      ]
     },
     "execution_count": 70,
     "metadata": {},
     "output_type": "execute_result"
    }
   ],
   "source": [
    "a=sp.diff((x**2-2)/(x**3))\n",
    "\n",
    "factor(a)"
   ]
  },
  {
   "cell_type": "markdown",
   "id": "e9622a72-eead-4cd3-96e1-7925ec2f08b6",
   "metadata": {},
   "source": [
    "\"oppgave 1 I\""
   ]
  },
  {
   "cell_type": "code",
   "execution_count": 71,
   "id": "c1357580-40ee-4765-91d0-446571e95f88",
   "metadata": {},
   "outputs": [
    {
     "data": {
      "text/latex": [
       "$\\displaystyle \\frac{13 x^{\\frac{11}{2}}}{2}$"
      ],
      "text/plain": [
       "13*x**(11/2)/2"
      ]
     },
     "execution_count": 71,
     "metadata": {},
     "output_type": "execute_result"
    }
   ],
   "source": [
    "sp.diff(sqrt(x)*x**6)"
   ]
  },
  {
   "cell_type": "markdown",
   "id": "47e4a8c0-ec50-4e45-b03e-b6c40255ec1a",
   "metadata": {},
   "source": [
    "\"oppgave 1 J\""
   ]
  },
  {
   "cell_type": "code",
   "execution_count": 72,
   "id": "3bdad282-b047-44a5-89a0-d3516815010e",
   "metadata": {},
   "outputs": [
    {
     "data": {
      "text/latex": [
       "$\\displaystyle 3 x^{2} + 1$"
      ],
      "text/plain": [
       "3*x**2 + 1"
      ]
     },
     "execution_count": 72,
     "metadata": {},
     "output_type": "execute_result"
    }
   ],
   "source": [
    "sp.diff(x*(x**2+1))"
   ]
  },
  {
   "cell_type": "markdown",
   "id": "a99f26fd-7a6b-42f2-82b0-f35702140a97",
   "metadata": {},
   "source": [
    "\"oppgave 1 K\""
   ]
  },
  {
   "cell_type": "code",
   "execution_count": 73,
   "id": "fd93b8ea-3534-45cd-8c1e-e9ecd3f226d0",
   "metadata": {},
   "outputs": [
    {
     "data": {
      "text/latex": [
       "$\\displaystyle - \\frac{x \\left(x^{3} + 12 x + 2\\right)}{\\left(x - 1\\right)^{2} \\left(x^{2} + x + 1\\right)^{2}}$"
      ],
      "text/plain": [
       "-x*(x**3 + 12*x + 2)/((x - 1)**2*(x**2 + x + 1)**2)"
      ]
     },
     "execution_count": 73,
     "metadata": {},
     "output_type": "execute_result"
    }
   ],
   "source": [
    "a=sp.diff((x**2+4)/(x**3-1))\n",
    "factor(a)"
   ]
  },
  {
   "cell_type": "markdown",
   "id": "81cd2e8d-4115-45a9-8fb8-940277413352",
   "metadata": {},
   "source": [
    "\"oppgave 1 L\""
   ]
  },
  {
   "cell_type": "code",
   "execution_count": 74,
   "id": "70ed5aa2-6c6a-481b-8dc2-b3b81cbeb3fb",
   "metadata": {},
   "outputs": [
    {
     "data": {
      "text/latex": [
       "$\\displaystyle \\frac{x^{2} \\left(- 2 x - 2\\right)}{\\left(x^{2} + 2 x\\right)^{2}} + \\frac{2 x}{x^{2} + 2 x}$"
      ],
      "text/plain": [
       "x**2*(-2*x - 2)/(x**2 + 2*x)**2 + 2*x/(x**2 + 2*x)"
      ]
     },
     "execution_count": 74,
     "metadata": {},
     "output_type": "execute_result"
    }
   ],
   "source": [
    "sp.diff(x**2/(x**2+2*x))"
   ]
  },
  {
   "cell_type": "markdown",
   "id": "afd25f06-ff6e-436c-bc68-b717756054df",
   "metadata": {},
   "source": [
    "\"oppgave 1 M\""
   ]
  },
  {
   "cell_type": "code",
   "execution_count": 75,
   "id": "1e6b3da3-3f5a-4be4-949d-7df4341c50f6",
   "metadata": {},
   "outputs": [
    {
     "data": {
      "text/latex": [
       "$\\displaystyle \\frac{x^{2} - 4 x - 10}{\\left(x - 2\\right)^{2}}$"
      ],
      "text/plain": [
       "(x**2 - 4*x - 10)/(x - 2)**2"
      ]
     },
     "execution_count": 75,
     "metadata": {},
     "output_type": "execute_result"
    }
   ],
   "source": [
    "a=sp.diff((x**2+4*x+2)/(x-2))\n",
    "factor(a)"
   ]
  },
  {
   "cell_type": "markdown",
   "id": "d7f72e01-95b2-4409-bec3-49718ca29945",
   "metadata": {},
   "source": [
    "\"oppgave 2 A\""
   ]
  },
  {
   "cell_type": "code",
   "execution_count": 76,
   "id": "67b29474-0377-4370-8cb5-e012f5149ac6",
   "metadata": {},
   "outputs": [
    {
     "data": {
      "text/latex": [
       "$\\displaystyle \\frac{3 x^{2} - 2}{x^{2}} - \\frac{2 \\left(x^{3} - 2 x\\right)}{x^{3}}$"
      ],
      "text/plain": [
       "(3*x**2 - 2)/x**2 - 2*(x**3 - 2*x)/x**3"
      ]
     },
     "execution_count": 76,
     "metadata": {},
     "output_type": "execute_result"
    }
   ],
   "source": [
    "sp.diff((x**3-2*x)/x**2-1)"
   ]
  },
  {
   "cell_type": "markdown",
   "id": "060dcb7a-6f68-4a58-b2c7-86987709342c",
   "metadata": {},
   "source": [
    "\"oppgave 2 B\""
   ]
  },
  {
   "cell_type": "code",
   "execution_count": 77,
   "id": "c8b83bbc-2268-4047-bc8c-9946d38df21d",
   "metadata": {},
   "outputs": [
    {
     "data": {
      "text/latex": [
       "$\\displaystyle 4 x^{3}$"
      ],
      "text/plain": [
       "4*x**3"
      ]
     },
     "execution_count": 77,
     "metadata": {},
     "output_type": "execute_result"
    }
   ],
   "source": [
    "a=sp.diff((x**2+1)*(x**2-1))\n",
    "factor(a)"
   ]
  },
  {
   "cell_type": "markdown",
   "id": "5246e7c1-514b-48bc-8182-e37f58b23ddb",
   "metadata": {},
   "source": [
    "\"Oppgave 2 C\""
   ]
  },
  {
   "cell_type": "code",
   "execution_count": 78,
   "id": "5d72bffc-3df6-4f10-969f-1053f97d63ed",
   "metadata": {},
   "outputs": [
    {
     "data": {
      "text/latex": [
       "$\\displaystyle - \\frac{3 \\left(2 x^{3} - 4 x^{2} - 7\\right)}{\\left(x^{3} + 7\\right)^{2}}$"
      ],
      "text/plain": [
       "-3*(2*x**3 - 4*x**2 - 7)/(x**3 + 7)**2"
      ]
     },
     "execution_count": 78,
     "metadata": {},
     "output_type": "execute_result"
    }
   ],
   "source": [
    "a=sp.diff((3*x-4)/(x**3+7))\n",
    "factor(a)"
   ]
  },
  {
   "cell_type": "code",
   "execution_count": null,
   "id": "76d5e06f-31f2-4fec-a2d5-7421fa761160",
   "metadata": {},
   "outputs": [],
   "source": []
  }
 ],
 "metadata": {
  "kernelspec": {
   "display_name": "Python 3 (ipykernel)",
   "language": "python",
   "name": "python3"
  },
  "language_info": {
   "codemirror_mode": {
    "name": "ipython",
    "version": 3
   },
   "file_extension": ".py",
   "mimetype": "text/x-python",
   "name": "python",
   "nbconvert_exporter": "python",
   "pygments_lexer": "ipython3",
   "version": "3.9.5"
  }
 },
 "nbformat": 4,
 "nbformat_minor": 5
}
