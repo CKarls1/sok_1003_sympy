{
 "cells": [
  {
   "cell_type": "code",
   "execution_count": 3,
   "id": "3cb6b8eb-d9cb-4b34-90f9-887af64c5645",
   "metadata": {},
   "outputs": [
    {
     "ename": "SyntaxError",
     "evalue": "invalid syntax (1758759868.py, line 2)",
     "output_type": "error",
     "traceback": [
      "\u001b[0;36m  File \u001b[0;32m\"/tmp/ipykernel_124832/1758759868.py\"\u001b[0;36m, line \u001b[0;32m2\u001b[0m\n\u001b[0;31m    factor((x**3+6*)**5)\u001b[0m\n\u001b[0m                   ^\u001b[0m\n\u001b[0;31mSyntaxError\u001b[0m\u001b[0;31m:\u001b[0m invalid syntax\n"
     ]
    }
   ],
   "source": [
    "from sympy import factor\n",
    "factor((x**3+6*)**5)"
   ]
  },
  {
   "cell_type": "code",
   "execution_count": 2,
   "id": "8b2f6e4b-c75e-489a-9746-7fd04a24f4a3",
   "metadata": {},
   "outputs": [
    {
     "data": {
      "text/latex": [
       "$\\displaystyle \\left(15 x^{2} + 30\\right) \\left(x^{3} + 6 x\\right)^{4}$"
      ],
      "text/plain": [
       "(15*x**2 + 30)*(x**3 + 6*x)**4"
      ]
     },
     "execution_count": 2,
     "metadata": {},
     "output_type": "execute_result"
    }
   ],
   "source": [
    "sp.diff((x**3+6*x)**5)"
   ]
  },
  {
   "cell_type": "code",
   "execution_count": null,
   "id": "3e0b4a40-80d1-44b3-8c2c-2b74eb1d8377",
   "metadata": {},
   "outputs": [],
   "source": []
  }
 ],
 "metadata": {
  "kernelspec": {
   "display_name": "Python 3 (ipykernel)",
   "language": "python",
   "name": "python3"
  },
  "language_info": {
   "codemirror_mode": {
    "name": "ipython",
    "version": 3
   },
   "file_extension": ".py",
   "mimetype": "text/x-python",
   "name": "python",
   "nbconvert_exporter": "python",
   "pygments_lexer": "ipython3",
   "version": "3.9.5"
  }
 },
 "nbformat": 4,
 "nbformat_minor": 5
}
