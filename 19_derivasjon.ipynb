{
 "cells": [
  {
   "cell_type": "code",
   "execution_count": 1,
   "id": "e5807c01-328e-40fa-a720-73b44069fb10",
   "metadata": {},
   "outputs": [
    {
     "data": {
      "text/plain": [
       "'oppgave 1 A'"
      ]
     },
     "execution_count": 1,
     "metadata": {},
     "output_type": "execute_result"
    }
   ],
   "source": [
    "\"oppgave 1 A\""
   ]
  },
  {
   "cell_type": "code",
   "execution_count": 3,
   "id": "ebbdd8e7-3724-4b05-aca2-e20e09ad92b2",
   "metadata": {},
   "outputs": [],
   "source": [
    "import sympy as sp\n",
    "x=sp.symbols('x')"
   ]
  },
  {
   "cell_type": "code",
   "execution_count": 5,
   "id": "c4ebf6e2-d2cc-4172-a1bb-a4f308dd37c2",
   "metadata": {},
   "outputs": [
    {
     "data": {
      "text/latex": [
       "$\\displaystyle 5 x^{4}$"
      ],
      "text/plain": [
       "5*x**4"
      ]
     },
     "execution_count": 5,
     "metadata": {},
     "output_type": "execute_result"
    }
   ],
   "source": [
    "sp.diff(x**5)"
   ]
  },
  {
   "cell_type": "code",
   "execution_count": 6,
   "id": "c5ff5acc-846a-4c28-978a-18d118fcc4a6",
   "metadata": {},
   "outputs": [
    {
     "data": {
      "text/plain": [
       "'oppgave 1 B'"
      ]
     },
     "execution_count": 6,
     "metadata": {},
     "output_type": "execute_result"
    }
   ],
   "source": [
    "\"oppgave 1 B\""
   ]
  },
  {
   "cell_type": "code",
   "execution_count": 7,
   "id": "ca7c7d0d-1f10-467b-a7a1-160960b6eb61",
   "metadata": {},
   "outputs": [
    {
     "data": {
      "text/latex": [
       "$\\displaystyle 1$"
      ],
      "text/plain": [
       "1"
      ]
     },
     "execution_count": 7,
     "metadata": {},
     "output_type": "execute_result"
    }
   ],
   "source": [
    "sp.diff(x+12)"
   ]
  },
  {
   "cell_type": "code",
   "execution_count": 8,
   "id": "ddd415b4-f548-40b7-b596-f915462e9821",
   "metadata": {},
   "outputs": [
    {
     "data": {
      "text/plain": [
       "'oppgave 1 C'"
      ]
     },
     "execution_count": 8,
     "metadata": {},
     "output_type": "execute_result"
    }
   ],
   "source": [
    "\"oppgave 1 C\""
   ]
  },
  {
   "cell_type": "code",
   "execution_count": 9,
   "id": "c83d803c-35c8-4234-8246-cb5d97abc865",
   "metadata": {},
   "outputs": [
    {
     "data": {
      "text/latex": [
       "$\\displaystyle 3 x^{2} + 8 x$"
      ],
      "text/plain": [
       "3*x**2 + 8*x"
      ]
     },
     "execution_count": 9,
     "metadata": {},
     "output_type": "execute_result"
    }
   ],
   "source": [
    "sp.diff(x**3+4*x**2)"
   ]
  },
  {
   "cell_type": "code",
   "execution_count": 10,
   "id": "22675581-6c0c-4f98-9bff-6002081a940b",
   "metadata": {},
   "outputs": [
    {
     "data": {
      "text/plain": [
       "'oppgave 1 D'"
      ]
     },
     "execution_count": 10,
     "metadata": {},
     "output_type": "execute_result"
    }
   ],
   "source": [
    "\"oppgave 1 D\""
   ]
  },
  {
   "cell_type": "code",
   "execution_count": 13,
   "id": "27e21c66-d9da-4160-88fd-67d7f382c518",
   "metadata": {},
   "outputs": [
    {
     "data": {
      "text/latex": [
       "$\\displaystyle 6 x^{2}$"
      ],
      "text/plain": [
       "6*x**2"
      ]
     },
     "execution_count": 13,
     "metadata": {},
     "output_type": "execute_result"
    }
   ],
   "source": [
    "sp.diff(2*x**3+36**1/2)"
   ]
  },
  {
   "cell_type": "code",
   "execution_count": 14,
   "id": "057e2773-ff89-4e95-b597-e8d98526da54",
   "metadata": {},
   "outputs": [
    {
     "data": {
      "text/plain": [
       "'oppgave 1 E'"
      ]
     },
     "execution_count": 14,
     "metadata": {},
     "output_type": "execute_result"
    }
   ],
   "source": [
    "\"oppgave 1 E\""
   ]
  },
  {
   "cell_type": "code",
   "execution_count": 35,
   "id": "3dbc2933-6c07-4412-8846-c7f233be198d",
   "metadata": {},
   "outputs": [
    {
     "data": {
      "text/latex": [
       "$\\displaystyle \\frac{1}{2}$"
      ],
      "text/plain": [
       "1/2"
      ]
     },
     "execution_count": 35,
     "metadata": {},
     "output_type": "execute_result"
    }
   ],
   "source": [
    "sp.diff((x**1/2)+5**2)"
   ]
  },
  {
   "cell_type": "code",
   "execution_count": 16,
   "id": "3f7865e8-b693-41e4-ae70-71aeaca7dd82",
   "metadata": {},
   "outputs": [
    {
     "data": {
      "text/plain": [
       "'oppgave 1 F'"
      ]
     },
     "execution_count": 16,
     "metadata": {},
     "output_type": "execute_result"
    }
   ],
   "source": [
    "\"oppgave 1 F\""
   ]
  },
  {
   "cell_type": "code",
   "execution_count": 17,
   "id": "a42fd515-e9eb-4478-b68d-de4f04b8105c",
   "metadata": {},
   "outputs": [
    {
     "data": {
      "text/latex": [
       "$\\displaystyle 3 x^{2} - \\frac{1}{x^{2}}$"
      ],
      "text/plain": [
       "3*x**2 - 1/x**2"
      ]
     },
     "execution_count": 17,
     "metadata": {},
     "output_type": "execute_result"
    }
   ],
   "source": [
    "sp.diff(x**3+1/x)"
   ]
  },
  {
   "cell_type": "code",
   "execution_count": 18,
   "id": "384956b1-70f2-46fe-bf19-eaae7fb4213e",
   "metadata": {},
   "outputs": [
    {
     "data": {
      "text/plain": [
       "'oppgave 1 G'"
      ]
     },
     "execution_count": 18,
     "metadata": {},
     "output_type": "execute_result"
    }
   ],
   "source": [
    "\"oppgave 1 G\""
   ]
  },
  {
   "cell_type": "code",
   "execution_count": 19,
   "id": "f56bd2cf-1a22-4d3e-b669-4370e93ffbec",
   "metadata": {},
   "outputs": [
    {
     "data": {
      "text/latex": [
       "$\\displaystyle 3 x^{2} - 2 x + 0.25$"
      ],
      "text/plain": [
       "3*x**2 - 2*x + 0.25"
      ]
     },
     "execution_count": 19,
     "metadata": {},
     "output_type": "execute_result"
    }
   ],
   "source": [
    "sp.diff(x**3-x**2+1/4*x)"
   ]
  },
  {
   "cell_type": "code",
   "execution_count": 20,
   "id": "bd8ac998-9a71-4d6e-b709-cb2ea13e5179",
   "metadata": {},
   "outputs": [
    {
     "data": {
      "text/plain": [
       "'oppgave 2 A'"
      ]
     },
     "execution_count": 20,
     "metadata": {},
     "output_type": "execute_result"
    }
   ],
   "source": [
    "\"oppgave 2 A\""
   ]
  },
  {
   "cell_type": "code",
   "execution_count": 22,
   "id": "3e657f55-fc9a-4840-add9-d78a7a478955",
   "metadata": {},
   "outputs": [
    {
     "data": {
      "text/latex": [
       "$\\displaystyle 36 x^{5} - \\frac{1}{x^{2}}$"
      ],
      "text/plain": [
       "36*x**5 - 1/x**2"
      ]
     },
     "execution_count": 22,
     "metadata": {},
     "output_type": "execute_result"
    }
   ],
   "source": [
    "sp.diff(1/x+6*x**6)"
   ]
  },
  {
   "cell_type": "code",
   "execution_count": 23,
   "id": "ab088dca-2769-4270-8e4c-03137c6d0f17",
   "metadata": {},
   "outputs": [
    {
     "data": {
      "text/plain": [
       "'oppgave 2 B'"
      ]
     },
     "execution_count": 23,
     "metadata": {},
     "output_type": "execute_result"
    }
   ],
   "source": [
    "\"oppgave 2 B\""
   ]
  },
  {
   "cell_type": "code",
   "execution_count": 32,
   "id": "81316f15-6284-4164-999d-bbcc826d364c",
   "metadata": {},
   "outputs": [
    {
     "data": {
      "text/latex": [
       "$\\displaystyle 1.5 x^{2} - 1$"
      ],
      "text/plain": [
       "1.5*x**2 - 1"
      ]
     },
     "execution_count": 32,
     "metadata": {},
     "output_type": "execute_result"
    }
   ],
   "source": [
    "sp.diff(-x+1/2*x**3)\n"
   ]
  },
  {
   "cell_type": "code",
   "execution_count": 25,
   "id": "4e9f8a8a-0754-4768-bd76-c8ff56c4809c",
   "metadata": {},
   "outputs": [
    {
     "data": {
      "text/plain": [
       "'oppgave 2 C'"
      ]
     },
     "execution_count": 25,
     "metadata": {},
     "output_type": "execute_result"
    }
   ],
   "source": [
    "\"oppgave 2 C\""
   ]
  },
  {
   "cell_type": "code",
   "execution_count": 27,
   "id": "8feb2b00-231f-4d86-828f-792c224d9174",
   "metadata": {},
   "outputs": [
    {
     "ename": "TypeError",
     "evalue": "'Symbol' object is not subscriptable",
     "output_type": "error",
     "traceback": [
      "\u001b[0;31m---------------------------------------------------------------------------\u001b[0m",
      "\u001b[0;31mTypeError\u001b[0m                                 Traceback (most recent call last)",
      "\u001b[0;32m/tmp/ipykernel_268341/3338091385.py\u001b[0m in \u001b[0;36m<module>\u001b[0;34m\u001b[0m\n\u001b[0;32m----> 1\u001b[0;31m \u001b[0msp\u001b[0m\u001b[0;34m.\u001b[0m\u001b[0mdiff\u001b[0m\u001b[0;34m(\u001b[0m\u001b[0mx\u001b[0m\u001b[0;34m[\u001b[0m\u001b[0mx\u001b[0m\u001b[0;34m**\u001b[0m\u001b[0;36m2\u001b[0m\u001b[0;34m+\u001b[0m\u001b[0;36m2\u001b[0m\u001b[0;34m*\u001b[0m\u001b[0mx\u001b[0m\u001b[0;34m-\u001b[0m\u001b[0;36m3\u001b[0m\u001b[0;34m]\u001b[0m\u001b[0;34m)\u001b[0m\u001b[0;34m\u001b[0m\u001b[0;34m\u001b[0m\u001b[0m\n\u001b[0m",
      "\u001b[0;31mTypeError\u001b[0m: 'Symbol' object is not subscriptable"
     ]
    }
   ],
   "source": [
    "sp.diff(x[x**2+2*x-3])"
   ]
  },
  {
   "cell_type": "code",
   "execution_count": null,
   "id": "52b27c5e-4b4d-4eea-add2-580077092f72",
   "metadata": {},
   "outputs": [],
   "source": []
  }
 ],
 "metadata": {
  "kernelspec": {
   "display_name": "Python 3 (ipykernel)",
   "language": "python",
   "name": "python3"
  },
  "language_info": {
   "codemirror_mode": {
    "name": "ipython",
    "version": 3
   },
   "file_extension": ".py",
   "mimetype": "text/x-python",
   "name": "python",
   "nbconvert_exporter": "python",
   "pygments_lexer": "ipython3",
   "version": "3.9.5"
  }
 },
 "nbformat": 4,
 "nbformat_minor": 5
}
