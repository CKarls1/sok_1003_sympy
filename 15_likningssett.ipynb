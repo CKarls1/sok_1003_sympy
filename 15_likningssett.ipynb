{
 "cells": [
  {
   "cell_type": "markdown",
   "id": "d185ff57-247a-498a-9ec6-91c76456e960",
   "metadata": {},
   "source": [
    "\"oppgave 1 A\""
   ]
  },
  {
   "cell_type": "code",
   "execution_count": 3,
   "id": "65d36e74-3cb0-451d-a553-93df75df75c3",
   "metadata": {},
   "outputs": [],
   "source": [
    "import sympy as sp\n",
    "x,y=sp.symbols('x y')"
   ]
  },
  {
   "cell_type": "code",
   "execution_count": 4,
   "id": "57372649-ae6b-4cb2-b686-e774a525db85",
   "metadata": {},
   "outputs": [
    {
     "data": {
      "text/latex": [
       "$\\displaystyle 2 x + 4 y = 6$"
      ],
      "text/plain": [
       "Eq(2*x + 4*y, 6)"
      ]
     },
     "execution_count": 4,
     "metadata": {},
     "output_type": "execute_result"
    }
   ],
   "source": [
    "eq1=sp.Eq(2*x+4*y,6)\n",
    "eq1"
   ]
  },
  {
   "cell_type": "code",
   "execution_count": 5,
   "id": "b8352b52-afd6-4958-a710-8c6fbb18a768",
   "metadata": {},
   "outputs": [
    {
     "data": {
      "text/latex": [
       "$\\displaystyle - 2 x + y = 4$"
      ],
      "text/plain": [
       "Eq(-2*x + y, 4)"
      ]
     },
     "execution_count": 5,
     "metadata": {},
     "output_type": "execute_result"
    }
   ],
   "source": [
    "eq2=sp.Eq(-2*x+y,4)\n",
    "eq2"
   ]
  },
  {
   "cell_type": "code",
   "execution_count": 6,
   "id": "fcc0f777-bf40-430b-87d9-8ba55a8ad882",
   "metadata": {},
   "outputs": [
    {
     "data": {
      "text/plain": [
       "{x: -1, y: 2}"
      ]
     },
     "execution_count": 6,
     "metadata": {},
     "output_type": "execute_result"
    }
   ],
   "source": [
    "from sympy.solvers import solve\n",
    "\n",
    "solve([eq1,eq2],[x,y])"
   ]
  },
  {
   "cell_type": "markdown",
   "id": "b6c15ad7-0900-4726-b4c0-c26e367b7217",
   "metadata": {},
   "source": [
    "\"oppgave 1 B\""
   ]
  },
  {
   "cell_type": "code",
   "execution_count": 7,
   "id": "f420c5aa-b485-40fa-a47f-f9b18d614658",
   "metadata": {},
   "outputs": [
    {
     "data": {
      "text/latex": [
       "$\\displaystyle 2 x - y = -1$"
      ],
      "text/plain": [
       "Eq(2*x - y, -1)"
      ]
     },
     "execution_count": 7,
     "metadata": {},
     "output_type": "execute_result"
    }
   ],
   "source": [
    "eq1=sp.Eq(2*x-y,-1)\n",
    "eq1"
   ]
  },
  {
   "cell_type": "code",
   "execution_count": 8,
   "id": "53105f50-a292-44c5-9aa3-751fa7bebcc3",
   "metadata": {},
   "outputs": [
    {
     "data": {
      "text/latex": [
       "$\\displaystyle x^{2} + x - y = 1$"
      ],
      "text/plain": [
       "Eq(x**2 + x - y, 1)"
      ]
     },
     "execution_count": 8,
     "metadata": {},
     "output_type": "execute_result"
    }
   ],
   "source": [
    "eq2=sp.Eq(x**2+x-y,1)\n",
    "eq2"
   ]
  },
  {
   "cell_type": "code",
   "execution_count": 9,
   "id": "a2bb1fba-2ecd-473a-a2d9-dcaa103d6d8a",
   "metadata": {},
   "outputs": [
    {
     "data": {
      "text/plain": [
       "[(-1, -1), (2, 5)]"
      ]
     },
     "execution_count": 9,
     "metadata": {},
     "output_type": "execute_result"
    }
   ],
   "source": [
    "from sympy.solvers import solve\n",
    "\n",
    "solve([eq1,eq2],[x,y])"
   ]
  },
  {
   "cell_type": "markdown",
   "id": "120564b3-6dd6-45a7-8c04-9a2806a2697f",
   "metadata": {},
   "source": [
    "\"oppgave 2 A\""
   ]
  },
  {
   "cell_type": "code",
   "execution_count": 10,
   "id": "78adcb52-30c7-4fcf-a67b-77a5f212ca93",
   "metadata": {},
   "outputs": [
    {
     "data": {
      "text/latex": [
       "$\\displaystyle 3 x - 12 = - 6 y$"
      ],
      "text/plain": [
       "Eq(3*x - 12, -6*y)"
      ]
     },
     "execution_count": 10,
     "metadata": {},
     "output_type": "execute_result"
    }
   ],
   "source": [
    "eq1=sp.Eq(3*x-12,-6*y)\n",
    "eq1"
   ]
  },
  {
   "cell_type": "code",
   "execution_count": 11,
   "id": "8d096f06-2fe8-49e4-8356-bb4fded1b4a6",
   "metadata": {},
   "outputs": [
    {
     "data": {
      "text/latex": [
       "$\\displaystyle 4 x - 8 y = 16$"
      ],
      "text/plain": [
       "Eq(4*x - 8*y, 16)"
      ]
     },
     "execution_count": 11,
     "metadata": {},
     "output_type": "execute_result"
    }
   ],
   "source": [
    "eq2=sp.Eq(4*x-8*y,16)\n",
    "eq2"
   ]
  },
  {
   "cell_type": "code",
   "execution_count": 12,
   "id": "45bed3ab-275a-4577-a471-5135bed4988c",
   "metadata": {},
   "outputs": [
    {
     "data": {
      "text/plain": [
       "{x: 4, y: 0}"
      ]
     },
     "execution_count": 12,
     "metadata": {},
     "output_type": "execute_result"
    }
   ],
   "source": [
    "from sympy.solvers import solve\n",
    "\n",
    "solve([eq1,eq2],[x,y])"
   ]
  },
  {
   "cell_type": "markdown",
   "id": "1d2bb9e6-9df8-4a6f-8966-8a899bcb496e",
   "metadata": {},
   "source": [
    "\"oppgave 2 B\""
   ]
  },
  {
   "cell_type": "code",
   "execution_count": 13,
   "id": "3bfcf068-a5b7-4f15-8088-18c8e7ceb2c4",
   "metadata": {},
   "outputs": [
    {
     "data": {
      "text/latex": [
       "$\\displaystyle x^{2} + 4 x - 3 = 3 y$"
      ],
      "text/plain": [
       "Eq(x**2 + 4*x - 3, 3*y)"
      ]
     },
     "execution_count": 13,
     "metadata": {},
     "output_type": "execute_result"
    }
   ],
   "source": [
    "eq1=sp.Eq(x**2+4*x-3,3*y)\n",
    "eq1"
   ]
  },
  {
   "cell_type": "code",
   "execution_count": 14,
   "id": "6b7494a3-4d73-471a-9b73-3326934e5207",
   "metadata": {},
   "outputs": [
    {
     "data": {
      "text/latex": [
       "$\\displaystyle 2 y = 8 - x$"
      ],
      "text/plain": [
       "Eq(2*y, 8 - x)"
      ]
     },
     "execution_count": 14,
     "metadata": {},
     "output_type": "execute_result"
    }
   ],
   "source": [
    "eq2=sp.Eq(2*y,8-x)\n",
    "eq2"
   ]
  },
  {
   "cell_type": "code",
   "execution_count": 15,
   "id": "1a5b276c-a8b2-4c7f-8c06-ae53a151ed97",
   "metadata": {},
   "outputs": [
    {
     "data": {
      "text/plain": [
       "[(-15/2, 31/4), (2, 3)]"
      ]
     },
     "execution_count": 15,
     "metadata": {},
     "output_type": "execute_result"
    }
   ],
   "source": [
    "from sympy.solvers import solve\n",
    "\n",
    "solve([eq1,eq2],[x,y])"
   ]
  }
 ],
 "metadata": {
  "kernelspec": {
   "display_name": "Python 3 (ipykernel)",
   "language": "python",
   "name": "python3"
  },
  "language_info": {
   "codemirror_mode": {
    "name": "ipython",
    "version": 3
   },
   "file_extension": ".py",
   "mimetype": "text/x-python",
   "name": "python",
   "nbconvert_exporter": "python",
   "pygments_lexer": "ipython3",
   "version": "3.9.5"
  }
 },
 "nbformat": 4,
 "nbformat_minor": 5
}
